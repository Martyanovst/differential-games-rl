{
 "nbformat": 4,
 "nbformat_minor": 2,
 "metadata": {
  "language_info": {
   "name": "python",
   "codemirror_mode": {
    "name": "ipython",
    "version": 3
   },
   "version": "3.7.3"
  },
  "orig_nbformat": 2,
  "file_extension": ".py",
  "mimetype": "text/x-python",
  "name": "python",
  "npconvert_exporter": "python",
  "pygments_lexer": "ipython3",
  "version": 3
 },
 "cells": [
  {
   "cell_type": "markdown",
   "execution_count": null,
   "metadata": {},
   "outputs": [],
   "source": [
    "# Continuos DQN"
   ]
  },
  {
   "cell_type": "markdown",
   "execution_count": null,
   "metadata": {},
   "outputs": [],
   "source": [
    "Deep Q-learning(DQN) with continuos actions space implementation."
   ]
  },
  {
   "cell_type": "markdown",
   "execution_count": null,
   "metadata": {},
   "outputs": [],
   "source": [
    "**imports:**"
   ]
  },
  {
   "cell_type": "code",
   "execution_count": 0,
   "metadata": {},
   "outputs": [],
   "source": [
    "import numpy as np\n",
    "from torch import nn\n",
    "import random\n",
    "import gym\n",
    "import matplotlib.pyplot as plt"
   ]
  },
  {
   "cell_type": "code",
   "execution_count": 0,
   "metadata": {},
   "outputs": [],
   "source": [
    "** Enviroment initialization:**"
   ]
  },
  {
   "cell_type": "code",
   "execution_count": 0,
   "metadata": {},
   "outputs": [],
   "source": [
    "env = gym.make('CartPole-v1')\n",
    "state_dim = env.observation_space.shape[0]\n",
    "action_n = env.action_space.n"
   ]
  },
  {
   "cell_type": "markdown",
   "execution_count": null,
   "metadata": {},
   "outputs": [],
   "source": [
    "**Neural network class realization:** "
   ]
  },
  {
   "cell_type": "code",
   "execution_count": 0,
   "metadata": {},
   "outputs": [],
   "source": [
    "class Network(nn.Module):\n",
    "\n",
    "    def __init__(self, input_dim, output_dim):\n",
    "        super().__init__()\n",
    "        self.linear_1 = nn.Linear(input_dim, 32)\n",
    "        self.linear_2 = nn.Linear(32, 32)\n",
    "        self.linear_3 = nn.Linear(32, output_dim)\n",
    "        self.relu = nn.ReLU()\n",
    "\n",
    "    def forward(self, input):\n",
    "        hidden = self.linear_1(input)\n",
    "        hidden = self.relu(hidden)\n",
    "        hidden = self.linear_2(hidden)\n",
    "        hidden = self.relu(hidden)\n",
    "        output = self.linear_3(hidden)\n",
    "        return output"
   ]
  },
  {
   "cell_type": "markdown",
   "execution_count": null,
   "metadata": {},
   "outputs": [],
   "source": [
    "**DQN-Agent class realization:**"
   ]
  },
  {
   "cell_type": "code",
   "execution_count": 0,
   "metadata": {},
   "outputs": [],
   "source": [
    "class DQNAgent(nn.Module):\n",
    "\n",
    "    def __init__(self, state_dim, action_n):\n",
    "        super().__init__()\n",
    "        self.state_dim = state_dim\n",
    "        self.action_n = action_n\n",
    "\n",
    "        self.gamma = 0.95\n",
    "        self.epsilon = 1\n",
    "        self.memory_size = 10000\n",
    "        self.memory = []\n",
    "        self.batch_size = 64\n",
    "        self.learinig_rate = 1e-2\n",
    "\n",
    "        self.q = Network(self.state_dim, self.action_n)\n",
    "        self.optimazer = torch.optim.Adam(self.q.parameters(), lr=self.learinig_rate)"
   ]
  },
  {
   "cell_type": "code",
   "execution_count": 0,
   "metadata": {},
   "outputs": [],
   "source": [
    "**Action function:**"
   ]
  },
  {
   "cell_type": "code",
   "execution_count": 0,
   "metadata": {},
   "outputs": [],
   "source": [
    "    def get_action(self, state):\n",
    "        state = torch.FloatTensor(state)\n",
    "        argmax_action = torch.argmax(self.q(state))\n",
    "        probs = np.ones(self.action_n) * self.epsilon / self.action_n\n",
    "        probs[argmax_action] += 1 - self.epsilon\n",
    "        actions = np.arange(self.action_n)\n",
    "        action = np.random.choice(actions, p=probs)\n",
    "        return action"
   ]
  },
  {
   "cell_type": "code",
   "execution_count": 0,
   "metadata": {},
   "outputs": [],
   "source": [
    "**fit function:**"
   ]
  },
  {
   "cell_type": "code",
   "execution_count": 0,
   "metadata": {},
   "outputs": [],
   "source": [
    "    def fit(self, state, action, reward, done, next_state):\n",
    "\n",
    "        self.memory.append([state, action, reward, done, next_state])\n",
    "        if len(self.memory) > self.memory_size:\n",
    "            self.memory.pop(0)\n",
    "\n",
    "        if len(self.memory) > self.batch_size:\n",
    "            batch = random.sample(self.memory, self.batch_size)\n",
    "\n",
    "            states, actions, rewards, dones, next_states = list(zip(*batch))\n",
    "            states = torch.FloatTensor(states)\n",
    "            q_values = self.q(states)\n",
    "            next_states = torch.FloatTensor(next_states)\n",
    "            next_q_values = self.q(next_states)\n",
    "            targets = q_values.clone()\n",
    "            for i in range(self.batch_size):\n",
    "                targets[i][actions[i]] = rewards[i] + self.gamma * (1 - dones[i]) * max(next_q_values[i])\n",
    "\n",
    "            loss = torch.mean((targets.detach() - q_values) ** 2)\n",
    "\n",
    "            loss.backward()\n",
    "            self.optimazer.step()\n",
    "            self.optimazer.zero_grad()\n",
    "\n",
    "            if self.epsilon > 0.01:\n",
    "                self.epsilon *= 0.999"
   ]
  },
  {
   "cell_type": "markdown",
   "execution_count": null,
   "metadata": {},
   "outputs": [],
   "source": [
    "**Agent initialization:**"
   ]
  },
  {
   "cell_type": "code",
   "execution_count": 0,
   "metadata": {},
   "outputs": [],
   "source": [
    "agent = DQNAgent(state_dim, action_n)"
   ]
  },
  {
   "cell_type": "markdown",
   "execution_count": null,
   "metadata": {},
   "outputs": [],
   "source": [
    "**Learning by *EPISODE_N* steps:**"
   ]
  },
  {
   "cell_type": "code",
   "execution_count": 0,
   "metadata": {},
   "outputs": [],
   "source": [
    "EPISODE_N = 100\n",
    "T_MAX = 500\n",
    "rewards = []\n",
    "for episode in range(episode_n):\n",
    "    state = env.reset()\n",
    "    total_reward = 0\n",
    "    for t in range(T_MAX):\n",
    "        action = agent.get_action(state)\n",
    "        next_state, reward, done, _ = env.step(action)\n",
    "        agent.fit(state, action, reward, done, next_state)\n",
    "        state = next_state\n",
    "        total_reward += reward\n",
    "        if done:\n",
    "            break\n",
    "    reward.append(total_reward)\n",
    "    print(total_reward)"
   ]
  },
  {
   "cell_type": "code",
   "execution_count": 0,
   "metadata": {},
   "outputs": [],
   "source": [
    "**Showing results:**"
   ]
  },
  {
   "cell_type": "code",
   "execution_count": 0,
   "metadata": {},
   "outputs": [],
   "source": [
    "plt.plot(range(EPISODE_N), rewards)\n",
    "plt.xlabel('Episode')\n",
    "plt.ylabel('Reward')\n",
    "plt.show()"
   ]
  }
 ]
}